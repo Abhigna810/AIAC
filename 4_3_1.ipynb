{
  "nbformat": 4,
  "nbformat_minor": 0,
  "metadata": {
    "colab": {
      "provenance": []
    },
    "kernelspec": {
      "name": "python3",
      "display_name": "Python 3"
    },
    "language_info": {
      "name": "python"
    }
  },
  "cells": [
    {
      "cell_type": "code",
      "execution_count": null,
      "metadata": {
        "id": "AdDr2wVc03b6"
      },
      "outputs": [],
      "source": []
    },
    {
      "cell_type": "markdown",
      "source": [
        "generate a python code to check whether a given number is a leap year or not\n"
      ],
      "metadata": {
        "id": "sOjBz-bg039k"
      }
    },
    {
      "cell_type": "code",
      "source": [],
      "metadata": {
        "id": "P5jf-5Es05Jg"
      },
      "execution_count": null,
      "outputs": []
    },
    {
      "cell_type": "code",
      "metadata": {
        "colab": {
          "base_uri": "https://localhost:8080/"
        },
        "id": "b4582c29",
        "outputId": "19fcd506-6e89-4a90-815e-efdde1092cc2"
      },
      "source": [
        "def is_leap_year(year):\n",
        "  \"\"\"\n",
        "  Checks if a given year is a leap year.\n",
        "\n",
        "  Args:\n",
        "    year: The year to check (integer).\n",
        "\n",
        "  Returns:\n",
        "    True if the year is a leap year, False otherwise.\n",
        "  \"\"\"\n",
        "  if (year % 4 == 0 and year % 100 != 0) or (year % 400 == 0):\n",
        "    return True\n",
        "  else:\n",
        "    return False\n",
        "\n",
        "# Example usage:\n",
        "year_to_check = 2024\n",
        "if is_leap_year(year_to_check):\n",
        "  print(f\"{year_to_check} is a leap year.\")\n",
        "else:\n",
        "  print(f\"{year_to_check} is not a leap year.\")\n",
        "\n",
        "year_to_check = 1900\n",
        "if is_leap_year(year_to_check):\n",
        "  print(f\"{year_to_check} is a leap year.\")\n",
        "else:\n",
        "  print(f\"{year_to_check} is not a leap year.\")\n",
        "\n",
        "year_to_check = 2000\n",
        "if is_leap_year(year_to_check):\n",
        "  print(f\"{year_to_check} is a leap year.\")\n",
        "else:\n",
        "  print(f\"{year_to_check} is not a leap year.\")"
      ],
      "execution_count": 1,
      "outputs": [
        {
          "output_type": "stream",
          "name": "stdout",
          "text": [
            "2024 is a leap year.\n",
            "1900 is not a leap year.\n",
            "2000 is a leap year.\n"
          ]
        }
      ]
    },
    {
      "cell_type": "markdown",
      "source": [],
      "metadata": {
        "id": "1mWazN921Vp2"
      }
    },
    {
      "cell_type": "code",
      "metadata": {
        "colab": {
          "base_uri": "https://localhost:8080/"
        },
        "id": "8a8e4b10",
        "outputId": "2b31c735-7eff-4093-96e1-04eefe0ee950"
      },
      "source": [
        "def cm_to_inches(cm):\n",
        "  \"\"\"Converts centimeters to inches.\"\"\"\n",
        "  return cm * 0.393701\n",
        "\n",
        "# Example usage\n",
        "centimeters = 10\n",
        "inches = cm_to_inches(centimeters)\n",
        "print(f\"{centimeters} cm is equal to {inches} inches.\")\n",
        "\n",
        "centimeters = 25.4\n",
        "inches = cm_to_inches(centimeters)\n",
        "print(f\"{centimeters} cm is equal to {inches} inches.\")"
      ],
      "execution_count": 2,
      "outputs": [
        {
          "output_type": "stream",
          "name": "stdout",
          "text": [
            "10 cm is equal to 3.9370100000000003 inches.\n",
            "25.4 cm is equal to 10.0000054 inches.\n"
          ]
        }
      ]
    },
    {
      "cell_type": "markdown",
      "source": [],
      "metadata": {
        "id": "cvU7n1Vs1eYB"
      }
    },
    {
      "cell_type": "code",
      "metadata": {
        "colab": {
          "base_uri": "https://localhost:8080/"
        },
        "id": "6e34b7e1",
        "outputId": "291f17c6-1f3b-4f8c-f186-e40639674f7d"
      },
      "source": [
        "def format_name(full_name):\n",
        "  \"\"\"\n",
        "  Formats a full name into first and last names.\n",
        "\n",
        "  Args:\n",
        "    full_name: The full name as a string.\n",
        "\n",
        "  Returns:\n",
        "    A tuple containing the first name and the last name,\n",
        "    or (None, None) if the name cannot be split into two parts.\n",
        "  \"\"\"\n",
        "  names = full_name.split()\n",
        "  if len(names) >= 2:\n",
        "    first_name = names[0]\n",
        "    last_name = names[-1]\n",
        "    return first_name, last_name\n",
        "  else:\n",
        "    return None, None\n",
        "\n",
        "# Get input from the user\n",
        "full_name_input = input(\"Enter the full name: \")\n",
        "\n",
        "# Format and print the name\n",
        "first, last = format_name(full_name_input)\n",
        "\n",
        "if first and last:\n",
        "  print(f\"First Name: {first}\")\n",
        "  print(f\"Last Name: {last}\")\n",
        "else:\n",
        "  print(\"Invalid name format. Please enter at least a first and last name.\")"
      ],
      "execution_count": 4,
      "outputs": [
        {
          "output_type": "stream",
          "name": "stdout",
          "text": [
            "Enter the full name: Abhi M\n",
            "First Name: Abhi\n",
            "Last Name: M\n"
          ]
        }
      ]
    },
    {
      "cell_type": "markdown",
      "source": [],
      "metadata": {
        "id": "bjmi7EhA1pqw"
      }
    },
    {
      "cell_type": "markdown",
      "source": [],
      "metadata": {
        "id": "ljfWkOYk4RDa"
      }
    },
    {
      "cell_type": "markdown",
      "source": [],
      "metadata": {
        "id": "59ZME-7B4bGO"
      }
    },
    {
      "cell_type": "markdown",
      "source": [],
      "metadata": {
        "id": "1oEPeus74iy6"
      }
    },
    {
      "cell_type": "code",
      "metadata": {
        "id": "30bf5714"
      },
      "source": [
        "# Initialize the Gemini API\n",
        "try:\n",
        "  gemini_model = genai.GenerativeModel('gemini-2.5-flash-preview-04-17')\n",
        "except Exception as e:\n",
        "  print(f\"An error occurred while initializing the model: {e}\")"
      ],
      "execution_count": 25,
      "outputs": []
    },
    {
      "cell_type": "code",
      "metadata": {
        "colab": {
          "base_uri": "https://localhost:8080/",
          "height": 72
        },
        "id": "2037eced",
        "outputId": "e364c5d6-2917-434a-c75d-2828ae1362dd"
      },
      "source": [
        "# Define the zero-shot prompt\n",
        "zero_shot_prompt = \"\"\"Write a Python function called count_vowels that takes a string as input and returns the number of vowels in the string.\n",
        "\"\"\"\n",
        "\n",
        "# Generate code with the zero-shot prompt\n",
        "try:\n",
        "    zero_shot_response = gemini_model.generate_content(zero_shot_prompt)\n",
        "    zero_shot_code = zero_shot_response.text\n",
        "    print(\"--- Zero-Shot Generated Code ---\")\n",
        "    print(zero_shot_code)\n",
        "except Exception as e:\n",
        "    print(f\"An error occurred during zero-shot generation: {e}\")"
      ],
      "execution_count": 26,
      "outputs": [
        {
          "output_type": "stream",
          "name": "stdout",
          "text": [
            "An error occurred during zero-shot generation: 400 POST https://generativelanguage.googleapis.com/v1beta/models/gemini-2.5-flash-preview-04-17:generateContent?%24alt=json%3Benum-encoding%3Dint: API key not valid. Please pass a valid API key.\n"
          ]
        },
        {
          "output_type": "stream",
          "name": "stderr",
          "text": [
            "WARNING:tornado.access:400 POST /v1beta/models/gemini-2.5-flash-preview-04-17:generateContent?%24alt=json%3Benum-encoding%3Dint (127.0.0.1) 2885.55ms\n"
          ]
        }
      ]
    },
    {
      "cell_type": "markdown",
      "source": [],
      "metadata": {
        "id": "Ccs2Lcwt4j45"
      }
    },
    {
      "cell_type": "code",
      "metadata": {
        "colab": {
          "base_uri": "https://localhost:8080/"
        },
        "id": "3b3b9b7d",
        "outputId": "05357273-9331-41c9-bf49-65bfb5ebe1e8"
      },
      "source": [
        "def count_lines_in_file(file_path):\n",
        "  \"\"\"\n",
        "  Reads a text file and returns the number of lines.\n",
        "\n",
        "  Args:\n",
        "    file_path: The path to the text file.\n",
        "\n",
        "  Returns:\n",
        "    The number of lines in the file, or -1 if the file cannot be opened.\n",
        "  \"\"\"\n",
        "  try:\n",
        "    with open(file_path, 'r') as file:\n",
        "      line_count = sum(1 for line in file)\n",
        "    return line_count\n",
        "  except FileNotFoundError:\n",
        "    print(f\"Error: The file '{file_path}' was not found.\")\n",
        "    return -1\n",
        "  except Exception as e:\n",
        "    print(f\"An error occurred: {e}\")\n",
        "    return -1\n",
        "\n",
        "# Example usage:\n",
        "# Replace \"your_text_file.txt\" with the path to your text file\n",
        "file_path = \"your_text_file.txt\"\n",
        "number_of_lines = count_lines_in_file(file_path)\n",
        "\n",
        "if number_of_lines != -1:\n",
        "  print(f\"The number of lines in '{file_path}' is: {number_of_lines}\")"
      ],
      "execution_count": 27,
      "outputs": [
        {
          "output_type": "stream",
          "name": "stdout",
          "text": [
            "Error: The file 'your_text_file.txt' was not found.\n"
          ]
        }
      ]
    }
  ]
}